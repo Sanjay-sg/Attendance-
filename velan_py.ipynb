{
  "nbformat": 4,
  "nbformat_minor": 0,
  "metadata": {
    "colab": {
      "provenance": [],
      "authorship_tag": "ABX9TyNG2McISoLG1nrON7+J3zrt",
      "include_colab_link": true
    },
    "kernelspec": {
      "name": "python3",
      "display_name": "Python 3"
    },
    "language_info": {
      "name": "python"
    }
  },
  "cells": [
    {
      "cell_type": "markdown",
      "metadata": {
        "id": "view-in-github",
        "colab_type": "text"
      },
      "source": [
        "<a href=\"https://colab.research.google.com/github/Sanjay-sg/Attendance-/blob/main/velan_py.ipynb\" target=\"_parent\"><img src=\"https://colab.research.google.com/assets/colab-badge.svg\" alt=\"Open In Colab\"/></a>"
      ]
    },
    {
      "cell_type": "code",
      "execution_count": null,
      "metadata": {
        "colab": {
          "base_uri": "https://localhost:8080/"
        },
        "id": "qV5bM3nIUmeT",
        "outputId": "65ab2869-8b8e-4e8a-a080-edf7036ee4e5"
      },
      "outputs": [
        {
          "metadata": {
            "tags": null
          },
          "name": "stdout",
          "output_type": "stream",
          "text": [
            "\n",
            "Student Management System\n",
            "1. Add Student\n",
            "2. Display Students\n",
            "3. Search Student by ID\n",
            "4. Exit\n",
            "Invalid choice! Please try again.\n",
            "\n",
            "Student Management System\n",
            "1. Add Student\n",
            "2. Display Students\n",
            "3. Search Student by ID\n",
            "4. Exit\n",
            "Student added successfully!\n",
            "\n",
            "Student Management System\n",
            "1. Add Student\n",
            "2. Display Students\n",
            "3. Search Student by ID\n",
            "4. Exit\n"
          ]
        }
      ],
      "source": [
        "class Student:\n",
        "    def __init__(self, student_id, name, age):\n",
        "        self.student_id = student_id\n",
        "        self.name = name\n",
        "        self.age = age\n",
        "\n",
        "    def display_info(self):\n",
        "        print(f\"ID: {self.student_id}, Name: {self.name}, Age: {self.age}\")\n",
        "\n",
        "\n",
        "class StudentManagement:\n",
        "    def __init__(self):\n",
        "        self.students = []\n",
        "\n",
        "    def add_student(self):\n",
        "        student_id = int(input(\"Enter Student ID: \"))\n",
        "        name = input(\"Enter Student Name: \")\n",
        "        age = int(input(\"Enter Student Age: \"))\n",
        "        self.students.append(Student(student_id, name, age))\n",
        "        print(\"Student added successfully!\")\n",
        "\n",
        "    def display_students(self):\n",
        "        if not self.students:\n",
        "            print(\"No students found!\")\n",
        "        else:\n",
        "            print(\"\\nList of Students:\")\n",
        "            for student in self.students:\n",
        "                student.display_info()\n",
        "\n",
        "    def search_student(self):\n",
        "        student_id = int(input(\"Enter Student ID to search: \"))\n",
        "        for student in self.students:\n",
        "            if student.student_id == student_id:\n",
        "                print(\"Student found:\")\n",
        "                student.display_info()\n",
        "                return\n",
        "        print(f\"Student with ID {student_id} not found!\")\n",
        "\n",
        "    def run(self):\n",
        "        while True:\n",
        "            print(\"\\nStudent Management System\")\n",
        "            print(\"1. Add Student\")\n",
        "            print(\"2. Display Students\")\n",
        "            print(\"3. Search Student by ID\")\n",
        "            print(\"4. Exit\")\n",
        "            choice = input(\"Enter your choice: \")\n",
        "\n",
        "            if choice == '1':\n",
        "                self.add_student()\n",
        "            elif choice == '2':\n",
        "                self.display_students()\n",
        "            elif choice == '3':\n",
        "                self.search_student()\n",
        "            elif choice == '4':\n",
        "                print(\"Exiting program...\")\n",
        "                break\n",
        "            else:\n",
        "                print(\"Invalid choice! Please try again.\")\n",
        "\n",
        "\n",
        "if __name__ == \"__main__\":\n",
        "    sm = StudentManagement()\n",
        "    sm.run()\n"
      ]
    }
  ]
}