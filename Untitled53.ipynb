{
  "nbformat": 4,
  "nbformat_minor": 0,
  "metadata": {
    "colab": {
      "provenance": [],
      "authorship_tag": "ABX9TyMSD23nGmqBet+bJYKCWOl4",
      "include_colab_link": true
    },
    "kernelspec": {
      "name": "python3",
      "display_name": "Python 3"
    },
    "language_info": {
      "name": "python"
    }
  },
  "cells": [
    {
      "cell_type": "markdown",
      "metadata": {
        "id": "view-in-github",
        "colab_type": "text"
      },
      "source": [
        "<a href=\"https://colab.research.google.com/github/Sanjay-sg/Attendance-/blob/main/Untitled53.ipynb\" target=\"_parent\"><img src=\"https://colab.research.google.com/assets/colab-badge.svg\" alt=\"Open In Colab\"/></a>"
      ]
    },
    {
      "cell_type": "code",
      "execution_count": 1,
      "metadata": {
        "colab": {
          "base_uri": "https://localhost:8080/"
        },
        "id": "cFsepUeTU3Ll",
        "outputId": "2b5a9d07-9b3b-4aa1-a04d-64aed857b043"
      },
      "outputs": [
        {
          "output_type": "stream",
          "name": "stdout",
          "text": [
            "Valid String\n",
            "Invalid String\n"
          ]
        }
      ],
      "source": [
        "#Check if String Contain Only Defined Characters using Regex\n",
        "\n",
        "import re\n",
        "def check(str, pattern):\n",
        "    # _matching the strings\n",
        "    if re.search(pattern, str):\n",
        "        print(\"Valid String\")\n",
        "    else:\n",
        "        print(\"Invalid String\")\n",
        "# _driver code\n",
        "pattern = re.compile('^[1234]+$')\n",
        "check('2134', pattern)\n",
        "check('349', pattern)"
      ]
    }
  ]
}