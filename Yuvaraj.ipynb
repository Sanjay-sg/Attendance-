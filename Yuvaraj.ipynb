{
  "nbformat": 4,
  "nbformat_minor": 0,
  "metadata": {
    "colab": {
      "provenance": [],
      "authorship_tag": "ABX9TyMm8Aaaaj/DVwy0rlQImV1h",
      "include_colab_link": true
    },
    "kernelspec": {
      "name": "python3",
      "display_name": "Python 3"
    },
    "language_info": {
      "name": "python"
    }
  },
  "cells": [
    {
      "cell_type": "markdown",
      "metadata": {
        "id": "view-in-github",
        "colab_type": "text"
      },
      "source": [
        "<a href=\"https://colab.research.google.com/github/Sanjay-sg/Attendance-/blob/main/Yuvaraj.ipynb\" target=\"_parent\"><img src=\"https://colab.research.google.com/assets/colab-badge.svg\" alt=\"Open In Colab\"/></a>"
      ]
    },
    {
      "cell_type": "code",
      "execution_count": 1,
      "metadata": {
        "id": "2aj9mX2NOiQ7"
      },
      "outputs": [],
      "source": [
        "# Problem Description\n",
        "# Given a string s, your task is to remove extra consecutive occurrences of the same character such that no three consecutive identical characters appear in the final string.\n",
        "\n",
        "# Input\n",
        "# A string s consisting of lowercase English letters (1 ≤ s.length ≤ 10⁵).\n",
        "\n",
        "# Output\n",
        "# Return a modified string where no three consecutive characters are the same.\n",
        "\n",
        "# Example 1:\n",
        "# Input:\n",
        "# s = \"leeetcode\"\n",
        "\n",
        "# Output:\n",
        "# \"leetcode\"\n",
        "\n",
        "# Explanation:\n",
        "# The substring \"eee\" has three consecutive 'e's, so we remove one to get \"leetcode\".\n",
        "\n",
        "# Example 2:\n",
        "# Input:\n",
        "# s = \"aaabaaaa\"\n",
        "\n",
        "# Output:\n",
        "# \"aabaa\"\n",
        "\n",
        "# Explanation:\n",
        "\n",
        "# \"aaa\" (first occurrence) → remove one 'a' → \"aabaaaa\"\n",
        "\n",
        "# \"aaa\" (second occurrence) → remove one 'a' → \"aabaa\"\n",
        "\n",
        "# Example 3:\n",
        "# Input:\n",
        "# s = \"aab\"\n",
        "\n",
        "# Output:\n",
        "# \"aab\"\n",
        "\n",
        "# Explanation:\n",
        "# There are no three consecutive characters, so the string remains unchanged.\n",
        "\n",
        "# Constraints:\n",
        "# 1 ≤ s.length ≤ 10⁵\n",
        "\n",
        "# s consists only of lowercase English letters (a-z)."
      ]
    },
    {
      "cell_type": "code",
      "source": [
        "class Solution:\n",
        "    def makeFancyString(self, s: str) -> str:\n",
        "        result = []\n",
        "\n",
        "        for char in s:\n",
        "            if len(result) >= 2 and result[-1] == char and result[-2] == char:\n",
        "                continue  # Skip adding if last two characters are the same\n",
        "            result.append(char)\n",
        "\n",
        "        return \"\".join(result)  # Convert list to string\n",
        "\n",
        "# Simulating the input\n",
        "input_string = input()\n",
        "\n",
        "solution = Solution()\n",
        "result = solution.makeFancyString(input_string)\n",
        "\n",
        "print(\"Modified string:\", result)\n"
      ],
      "metadata": {
        "colab": {
          "base_uri": "https://localhost:8080/"
        },
        "id": "wzATkLvvPckq",
        "outputId": "0e58e768-c082-4e75-861c-c16393aff22c"
      },
      "execution_count": 3,
      "outputs": [
        {
          "output_type": "stream",
          "name": "stdout",
          "text": [
            "wertyuiopfvb\n",
            "Modified string: wertyuiopfvb\n"
          ]
        }
      ]
    }
  ]
}