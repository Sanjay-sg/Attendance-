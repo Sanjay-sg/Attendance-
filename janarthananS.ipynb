{
  "nbformat": 4,
  "nbformat_minor": 0,
  "metadata": {
    "colab": {
      "private_outputs": true,
      "provenance": [],
      "authorship_tag": "ABX9TyO2NwtKzztRr2xdAjygwezd",
      "include_colab_link": true
    },
    "kernelspec": {
      "name": "python3",
      "display_name": "Python 3"
    },
    "language_info": {
      "name": "python"
    }
  },
  "cells": [
    {
      "cell_type": "markdown",
      "metadata": {
        "id": "view-in-github",
        "colab_type": "text"
      },
      "source": [
        "<a href=\"https://colab.research.google.com/github/Sanjay-sg/Attendance-/blob/main/janarthananS.ipynb\" target=\"_parent\"><img src=\"https://colab.research.google.com/assets/colab-badge.svg\" alt=\"Open In Colab\"/></a>"
      ]
    },
    {
      "cell_type": "code",
      "execution_count": null,
      "metadata": {
        "id": "iMydV3zUTuhq"
      },
      "outputs": [],
      "source": [
        "import java.util.Scanner;\n",
        "class main{\n",
        "\n",
        "   public static boolean ispal(String str)\n",
        "   {\n",
        "\t   int left = 0;\n",
        "\t   int right = str.length()-1;\n",
        "\t   while(left < right)\n",
        "\t   {\n",
        "\t\t   if(str.charAt(left)!=str.charAt(right))\n",
        "\t\t   {\n",
        "\t\t\t   return false;\n",
        "\t\t   }\n",
        "\t\t   left++;\n",
        "\t\t   right--;\n",
        "\t   }\n",
        "\t   return true;\n",
        "   }\n",
        "\n",
        "\n",
        "\tpublic static void main(String[] args)\n",
        "\n",
        "\t{\n",
        "\t\tScanner sc = new Scanner (System.in);\n",
        "\t\tint num = sc.nextInt();\n",
        "\n",
        "\t\tString str = Integer.toBinaryString(num);\n",
        "\t\tSystem.out.println(str);\n",
        "\n",
        "\t\tif(ispal(str))\n",
        "\t\t\tSystem.out.println(str+\"\\nthe given number is palindrome\");\n",
        "\t\telse\n",
        "\t\t\tSystem.out.print(\"the given number is not palindrome\");\n",
        "\n",
        "    }\n",
        "\n",
        "}\n",
        "\n"
      ]
    }
  ]
}